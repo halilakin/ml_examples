{
 "cells": [
  {
   "cell_type": "markdown",
   "metadata": {},
   "source": [
    "# K-Means Clustering"
   ]
  },
  {
   "cell_type": "markdown",
   "metadata": {},
   "source": [
    "Clustering is what we do when we have a bunch of data, and we don't know their classes (y values,labels) and we try to group them by looking at data.\n",
    "\n",
    "K-means is an algorithm that will find k clusters for a given dataset. The number k is user defined. Each cluster is described by a single point known as centroid. Centroid means it's at the center of all the points in the cluster.\n",
    "\n",
    "It works as follows. First, k centroids are randomly assigned. Then, all data points in the data are assigned to a cluster by finding closest centroid. After this step, centroids are updated by taking the mean value of all the points in that cluster.\n",
    "\n",
    "K means is easy to implement but can easily converge at local minima. Since it is np-hard, it is also slow on large datasets."
   ]
  },
  {
   "cell_type": "markdown",
   "metadata": {},
   "source": [
    "### Pseudocode for K-Means\n",
    "\n",
    "```\n",
    "Creat k points randomly for centroids\n",
    "Until no point changes cluster assignment\n",
    "    for every point in our dataset:\n",
    "        for every centroid\n",
    "            calculate the distance between the centroid and point\n",
    "        assign the point to the cluster with the lowest distance\n",
    "    for every cluster:\n",
    "        calculate the mean of the points in that cluster\n",
    "        assign the centroid to the mean\n",
    "```"
   ]
  },
  {
   "cell_type": "markdown",
   "metadata": {},
   "source": [
    "First we will start by defining our helper functions."
   ]
  },
  {
   "cell_type": "code",
   "execution_count": 117,
   "metadata": {
    "collapsed": true
   },
   "outputs": [],
   "source": [
    "#support functions for our k means \n",
    "from numpy import *\n",
    "\n",
    "# loadDataSet, basically, reads our dataset form file \n",
    "# into dataMat variable\n",
    "def loadDataSet(fileName):\n",
    "    dataMat = []\n",
    "    fr = open(fileName)\n",
    "    for line in fr.readlines():\n",
    "        curLine = line.strip().split('\\t')\n",
    "        fltLine = map(float,curLine)\n",
    "        dataMat.append(fltLine)\n",
    "    return dataMat\n"
   ]
  },
  {
   "cell_type": "markdown",
   "metadata": {},
   "source": [
    "Our data consists of 80 data points and 2 features"
   ]
  },
  {
   "cell_type": "code",
   "execution_count": 118,
   "metadata": {
    "collapsed": false
   },
   "outputs": [
    {
     "name": "stdout",
     "output_type": "stream",
     "text": [
      "(80, 2)\n"
     ]
    }
   ],
   "source": [
    "dataMat = loadDataSet('data/kMeansTestSet.txt')\n",
    "print shape(dataMat)"
   ]
  },
  {
   "cell_type": "code",
   "execution_count": 119,
   "metadata": {
    "collapsed": true
   },
   "outputs": [],
   "source": [
    "# Euclidian distance between two arrays\n",
    "def distEclud(vecA,vecB):\n",
    "    return sqrt(sum(power(vecA-vecB,2)))"
   ]
  },
  {
   "cell_type": "code",
   "execution_count": 120,
   "metadata": {
    "collapsed": false
   },
   "outputs": [
    {
     "name": "stdout",
     "output_type": "stream",
     "text": [
      "1.73205080757\n"
     ]
    }
   ],
   "source": [
    "print distEclud(array([1,2,3]),array([2,3,4]))"
   ]
  },
  {
   "cell_type": "code",
   "execution_count": 121,
   "metadata": {
    "collapsed": false
   },
   "outputs": [],
   "source": [
    "# Gives k random centroids for the n rows in the dataSet\n",
    "# Note that these centroids are between the min and max\n",
    "# values of each feature\n",
    "def randCent(dataSet,k):\n",
    "    numberOfFeatures = shape(dataSet)[1]\n",
    "    centroids = mat(zeros((k,numberOfFeatures)))\n",
    "    for featureNumber in range(numberOfFeatures):\n",
    "        minVal = min(dataSet[:,featureNumber])\n",
    "        rangeVal = float(max(dataSet[:,featureNumber]) - minVal)\n",
    "        centroids[:,featureNumber] = minVal + rangeVal * random.rand(k,1)\n",
    "    return centroids"
   ]
  },
  {
   "cell_type": "code",
   "execution_count": 122,
   "metadata": {
    "collapsed": false
   },
   "outputs": [
    {
     "name": "stdout",
     "output_type": "stream",
     "text": [
      "Min feature 1 value  [[-5.379713]]\n",
      "Max feature 1 value  [[ 4.838138]]\n",
      "Min feature 2 value  [[-4.232586]]\n",
      "Min feature 2 value  [[ 5.1904]]\n"
     ]
    }
   ],
   "source": [
    "print \"Min feature 1 value \", min(datMat[:,0])\n",
    "print \"Max feature 1 value \", max(datMat[:,0])\n",
    "print \"Min feature 2 value \", min(datMat[:,1])\n",
    "print \"Min feature 2 value \", max(datMat[:,1])"
   ]
  },
  {
   "cell_type": "code",
   "execution_count": 123,
   "metadata": {
    "collapsed": false
   },
   "outputs": [
    {
     "name": "stdout",
     "output_type": "stream",
     "text": [
      "Centroid values: \n",
      "[[-3.3616012  -1.04983804]\n",
      " [-2.38695844 -1.76403421]\n",
      " [ 4.07517653 -1.03917496]\n",
      " [-3.18382929 -0.53241353]\n",
      " [-4.68692827 -2.58057144]]\n"
     ]
    }
   ],
   "source": [
    "print \"Centroid values: \"\n",
    "print randCent(datMat, 5)"
   ]
  },
  {
   "cell_type": "markdown",
   "metadata": {
    "collapsed": false
   },
   "source": [
    "Now, we can start writing about our kMeans algorithm. First let's remember the pseudocode for K-means.\n",
    "```\n",
    "Creat k points randomly for centroids\n",
    "Until no point changes cluster assignment\n",
    "    for every point in our dataset:\n",
    "        for every centroid\n",
    "            calculate the distance between the centroid and point\n",
    "        assign the point to the cluster with the lowest distance\n",
    "    for every cluster:\n",
    "        calculate the mean of the points in that cluster\n",
    "        assign the centroid to the mean\n",
    "```"
   ]
  },
  {
   "cell_type": "code",
   "execution_count": 124,
   "metadata": {
    "collapsed": false
   },
   "outputs": [],
   "source": [
    "def kMeans(dataSet,k, distMeas=distEclud,createCent=randCent):\n",
    "    numberOfPoints = shape(dataSet)[0]\n",
    "    clusterAssigment= mat(zeros((numberOfPoints,2))) # assigned centroid index,distance value\n",
    "    \n",
    "    # Creat k points randomly for centroids\n",
    "    centroids = createCent(dataSet,k) \n",
    "\n",
    "    clusterChanged = True \n",
    "    \n",
    "    # Until no point changes cluster assignment\n",
    "    while clusterChanged:\n",
    "        clusterChanged = False\n",
    "        \n",
    "        # for every point in our dataset:\n",
    "        for currentPointIndex in range(numberOfPoints):\n",
    "            minDist =inf; minIndex=-1\n",
    "        \n",
    "            # for every centroid\n",
    "            for currentCentroidIndex in range(k):\n",
    "                # calculate the distance between the centroid and point\n",
    "                distJI = distMeas(centroids[currentCentroidIndex,:],dataSet[currentPointIndex,:])\n",
    "                # if we found a closer centroid, change minDist & minIndex\n",
    "                if distJI < minDist:\n",
    "                    minDist = distJI; \n",
    "                    minIndex = currentCentroidIndex\n",
    "                    \n",
    "            # assign the point to the cluster with the lowest distance\n",
    "            if clusterAssigment[currentPointIndex,0] != minIndex: \n",
    "                clusterChanged=True\n",
    "                clusterAssigment[currentPointIndex,:]= minIndex,minDist**2\n",
    "        \n",
    "        # for every cluster\n",
    "        for cent in range(k):\n",
    "            ptsInClust = dataSet[nonzero(clusterAssigment[:,0].A==cent)[0]]\n",
    "            # calculate the mean of the points in that cluster\n",
    "            # assign the centroid to the mean\n",
    "            centroids[cent,:] = mean(ptsInClust,axis=0)\n",
    "    return centroids,clusterAssigment\n",
    "                    \n",
    "            "
   ]
  },
  {
   "cell_type": "code",
   "execution_count": 125,
   "metadata": {
    "collapsed": true
   },
   "outputs": [],
   "source": [
    "myCentroids, clustAssing = kMeans(datMat,4)"
   ]
  },
  {
   "cell_type": "code",
   "execution_count": 126,
   "metadata": {
    "collapsed": false
   },
   "outputs": [
    {
     "data": {
      "text/plain": [
       "<matplotlib.collections.PathCollection at 0x1090188d0>"
      ]
     },
     "execution_count": 126,
     "metadata": {},
     "output_type": "execute_result"
    },
    {
     "data": {
      "image/png": "[encoded data removed]",
      "text/plain": [
       "<matplotlib.figure.Figure at 0x108e8d950>"
      ]
     },
     "metadata": {},
     "output_type": "display_data"
    }
   ],
   "source": [
    "%matplotlib inline\n",
    "import matplotlib.pyplot as plt\n",
    "\n",
    "plt.scatter(array(dataMat)[:,0], array(dataMat)[:,1],marker='x', alpha=0.5)\n",
    "plt.scatter(array(myCentroids)[:,0], array(myCentroids)[:,1],marker='o',color='r', alpha=1.0)\n"
   ]
  }
 ],
 "metadata": {
  "kernelspec": {
   "display_name": "Python 2",
   "language": "python",
   "name": "python2"
  },
  "language_info": {
   "codemirror_mode": {
    "name": "ipython",
    "version": 2
   },
   "file_extension": ".py",
   "mimetype": "text/x-python",
   "name": "python",
   "nbconvert_exporter": "python",
   "pygments_lexer": "ipython2",
   "version": "2.7.10"
  }
 },
 "nbformat": 4,
 "nbformat_minor": 0
}
