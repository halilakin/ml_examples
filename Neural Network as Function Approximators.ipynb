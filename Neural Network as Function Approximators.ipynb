{
 "cells": [
  {
   "cell_type": "markdown",
   "metadata": {},
   "source": [
    "Neural networks as function approximators. Design a feed-forward neural network to approxi- mate the 1-dimensional function given in Fig. 1 on the following page. The output should match exactly. How many hidden layers do you need? How many units are there within each layer? Show the hidden layers, units, connections, weights, and biases."
   ]
  },
  {
   "cell_type": "markdown",
   "metadata": {
    "collapsed": true
   },
   "source": [
    "- 1 hidden layer \n",
    "- 5 relu units"
   ]
  },
  {
   "cell_type": "markdown",
   "metadata": {
    "collapsed": false
   },
   "source": [
    "![Neural Network](nn.png)\n",
    "\n",
    "![Neural Network](ournn.png)\n"
   ]
  },
  {
   "cell_type": "code",
   "execution_count": 55,
   "metadata": {
    "collapsed": false
   },
   "outputs": [
    {
     "data": {
      "image/png": "[encoded data removed]",
      "text/plain": [
       "<matplotlib.figure.Figure at 0x10a8d9790>"
      ]
     },
     "metadata": {},
     "output_type": "display_data"
    }
   ],
   "source": [
    "import numpy as np\n",
    "\n",
    "def relu(x):\n",
    "    return np.maximum(x,0)    \n",
    "\n",
    "# Define weights and biases\n",
    "W1 = np.array([2,float(5)/3,float(5)/3,float(11)/3,float(5)/3]) # [2,5/3,5/3,11/3,5/3]\n",
    "b1 = np.array([-2,float(-10)/3,float(-25)/3,-22,-15]) # [-2,-10/3,-25/3,-22,-15]\n",
    "W2 = np.array([1,-1,1,-1,1])\n",
    "b2 = 0\n",
    "\n",
    "# Input array\n",
    "x = np.linspace(0, 10, 100)\n",
    "\n",
    "# Forward propagation\n",
    "resultArr = []\n",
    "for i in range(len(x)):\n",
    "    z1 = np.array(x[i]).dot(W1) + b1\n",
    "    a1 = relu(z1)\n",
    "    a2 = a1.dot(W2) +b2\n",
    "    resultArr.append(a2)\n",
    "    \n",
    "\n",
    "# Generate graph and plot results\n",
    "import matplotlib.pyplot as plt\n",
    "%matplotlib inline\n",
    "\n",
    "plt.plot(x,resultArr)\n",
    "plt.axis([0, 10, -1, 6])\n",
    "plt.xlabel('Input')\n",
    "plt.ylabel('Output')\n",
    "plt.title('\"Pride Rock\"')\n",
    "plt.grid(True)\n",
    "plt.show()"
   ]
  }
 ],
 "metadata": {
  "kernelspec": {
   "display_name": "Python 2",
   "language": "python",
   "name": "python2"
  },
  "language_info": {
   "codemirror_mode": {
    "name": "ipython",
    "version": 2
   },
   "file_extension": ".py",
   "mimetype": "text/x-python",
   "name": "python",
   "nbconvert_exporter": "python",
   "pygments_lexer": "ipython2",
   "version": "2.7.10"
  }
 },
 "nbformat": 4,
 "nbformat_minor": 0
}
